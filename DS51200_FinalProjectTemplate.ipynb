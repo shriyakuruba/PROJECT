{
 "cells": [
  {
   "cell_type": "markdown",
   "id": "45762487-d33f-486d-8e38-2cdea04e3528",
   "metadata": {},
   "source": [
    "# Final Project Report\n",
    "\n",
    "* Class: DS 5100\n",
    "* Student Name: Shriya Kuruba\n",
    "* Student Net ID: ewu9af\n",
    "* This URL: https://github.com/shriyakuruba/PROJECT/blob/main/DS51200_FinalProjectTemplate.ipynb"
   ]
  },
  {
   "cell_type": "markdown",
   "id": "acf756c1-ecaa-41dc-b6ca-d566eb94560b",
   "metadata": {},
   "source": [
    "# Instructions\n",
    "\n",
    "Follow the instructions in the Final Project isntructions notebook and put evidence of your work in this notebook.\n",
    "\n",
    "Total points for each subsection under **Deliverables** and **Scenarios** are given in parentheses.\n",
    "\n",
    "Breakdowns of points within subsections are specified within subsection instructions as bulleted lists.\n",
    "\n",
    "This project is worth **50 points**."
   ]
  },
  {
   "cell_type": "markdown",
   "id": "89dc7a32-f682-4402-8c1e-b6ccdb3e0e39",
   "metadata": {},
   "source": [
    "# Deliverables"
   ]
  },
  {
   "cell_type": "markdown",
   "id": "d32cb273-9a40-4909-a7ce-51f6e4958d3c",
   "metadata": {},
   "source": [
    "## The Monte Carlo Module (10)\n",
    "\n",
    "- URL included, appropriately named (1).\n",
    "- Includes all three specified classes (3).\n",
    "- Includes at least all 12 specified methods (6; .5 each)."
   ]
  },
  {
   "cell_type": "markdown",
   "id": "f5f3b070-de9e-4de9-bfae-8974d184aa28",
   "metadata": {},
   "source": [
    "Put the URL to your GitHub repo here.\n",
    "\n",
    "Repo URL: https://github.com/shriyakuruba/PROJECT"
   ]
  },
  {
   "cell_type": "markdown",
   "id": "162370fb-3729-4c85-b040-8c25b2c966d2",
   "metadata": {},
   "source": [
    "Paste a copyy of your module here.\n",
    "\n",
    "NOTE: Paste as text, not as code. Use triple backticks to wrap your code blocks."
   ]
  },
  {
   "cell_type": "markdown",
   "id": "87a604d9-8e50-401a-b03c-8b3a2ca46e5c",
   "metadata": {},
   "source": [
    "```python\n",
    "import pandas as pd\n",
    "import numpy as np\n",
    "\n",
    "class Die:\n",
    "    \"\"\"A class representing a single die with N sides and W weights.\n",
    "\n",
    "    Each face has a unique symbol, and a weight associated with it that determines the likelihood of that face being rolled. By default, all weights are 1.0, making the die fair, but can be changed after the object is created. The die can be rolled to select a face based on weights.\n",
    "\n",
    "    Attributes:\n",
    "        faces (np.ndarray): A NumPy array of unique face symbols.\n",
    "        weights (np.ndarray): A NumPy array of weights, defaulting to 1.0 for each face.\n",
    "        _df (pd.DataFrame): A private DataFrame storing faces and weights with faces as the index.\n",
    "    \"\"\"\n",
    "    def __init__(self, faces: np.ndarray):\n",
    "        \"\"\"Initializes the Die object with the provided faces.\n",
    "\n",
    "        Args:\n",
    "            faces (np.ndarray): A NumPy array of unique face symbols (must be strings or numbers).\n",
    "\n",
    "        Raises:\n",
    "            TypeError: If `faces` is not a NumPy array.\n",
    "            ValueError: If the values in `faces` are not distinct.\n",
    "        \"\"\"\n",
    "        # to take care of the errors for this method\n",
    "        if not isinstance(faces, np.ndarray):\n",
    "            raise TypeError(\"Faces must be a NumPy array.\")\n",
    "        if len(np.unique(faces)) != len(faces):\n",
    "            raise ValueError(\"Faces must be unique.\")\n",
    "            \n",
    "        self.faces  = faces    \n",
    "        self._df = pd.DataFrame({'face': faces, 'weight': [1.0] * len(faces)})\n",
    "        self._df.set_index('face', inplace=True)\n",
    "\n",
    "    def change_weight(self, face, new_weight):\n",
    "        \"\"\"Changes the weight of a single face on the die.\n",
    "\n",
    "        Args:\n",
    "            face (str or int): The face value whose weight should be changed.\n",
    "            new_weight (float): The new weight to assign to the face chosen.\n",
    "\n",
    "        Raises:\n",
    "            IndexError: If the face is not found in the die.\n",
    "            TypeError: If the weight is not numeric or cannot be cast as numeric.\n",
    "        \"\"\"\n",
    "        if face not in self._df.index:\n",
    "            raise IndexError(f\"Face '{face}' is not in the die.\")\n",
    "        try:\n",
    "            new_weight = float(new_weight)\n",
    "        except (TypeError, ValueError):\n",
    "            raise TypeError(\"New weight must be a numeric value (int or float).\")\n",
    "            \n",
    "        self._df.loc[face, 'weight'] = new_weight\n",
    "\n",
    "    def roll(self, num_rolls = 1):\n",
    "        \"\"\"Rolls the die one or more times using the current weights.\n",
    "\n",
    "        Args:\n",
    "            num_rolls (int): Number of rolls to perform. Defaults to 1.\n",
    "\n",
    "        Returns:\n",
    "            list: A list of outcomes from the rolls.\n",
    "        \n",
    "        Raises:\n",
    "            ValueError: If `num_rolls` is not a positive integer.\n",
    "        \"\"\"\n",
    "        if not isinstance(num_rolls, int) or num_rolls < 1:\n",
    "            raise ValueError(\"Number of rolls must be a positive integer.\")\n",
    "            \n",
    "        results = list(\n",
    "            np.random.choice(\n",
    "                self._df.index,\n",
    "                size = num_rolls,\n",
    "                replace = True,\n",
    "                p = self._df['weight'] / self._df['weight'].sum()\n",
    "            )\n",
    "        )\n",
    "        return results\n",
    "    \n",
    "    def show_die(self):\n",
    "        \"\"\"Show the current faces and weights of the die.\n",
    "\n",
    "        Returns:\n",
    "            pd.DataFrame: A copy of the internal dataframe.\n",
    "        \"\"\"\n",
    "        return  self._df.copy()\n",
    "    \n",
    "class Game:\n",
    "    \"\"\"\n",
    "    A Game consists of rolling one or more Die objects a specified number of times.\n",
    "    \n",
    "    The game is played by rolling all provided dice a specified number of times.\n",
    "    Dice in a game are considered similar if they have the same faces, although their weights may differ.\n",
    "    The Game class only stores the results of the most recent play.\n",
    "\n",
    "    Attributes:\n",
    "        dice (list): A list of Die objects.\n",
    "        _results (pd.DataFrame): Results of the most recent play.\n",
    "    \"\"\"\n",
    "    def __init__(self, dice_list: list):\n",
    "        \"\"\"\n",
    "        Initialize the Game with a list of Die objects.\n",
    "\n",
    "        Args:\n",
    "            dice_list (list): List of Die objects.\n",
    "        \n",
    "        Raises:\n",
    "            TypeError: If any item in the list is not an instance of the Die class.\n",
    "            ValueError: If not all dice have the same faces.\n",
    "        \"\"\"\n",
    "        \n",
    "        if not all(isinstance(d, Die) for d in dice_list):\n",
    "            raise TypeError(\"All elements in dice must be instances of the Die class.\")\n",
    "        \n",
    "        first_face = dice_list[0].faces\n",
    "        for d in dice_list[1:]:\n",
    "            if not np.array_equal(d.faces, first_face):\n",
    "                raise ValueError(\"All dice must have the same set of faces.\")\n",
    "                \n",
    "        self.dice = dice_list\n",
    "        self._results = None\n",
    "\n",
    "    def play(self, num_rolls: int):\n",
    "        \"\"\"\n",
    "        Roll all dice for a specified number of times and store the result.\n",
    "\n",
    "        Args:\n",
    "            n_rolls (int): Number of times to roll the dice.\n",
    "            \n",
    "        Raises:\n",
    "            ValueError: If `num_rolls` is not a positive integer.\n",
    "        \"\"\"\n",
    "        \n",
    "        if not isinstance(num_rolls, int) or num_rolls < 1:\n",
    "            raise ValueError(\"Number of rolls must be a positive integer.\")\n",
    "\n",
    "        roll_data = {}\n",
    "        for i, die in enumerate(self.dice):\n",
    "            roll_data[i] = die.roll(num_rolls)\n",
    "\n",
    "        self._results = pd.DataFrame(roll_data)\n",
    "        self._results.index.name = \"Roll Number\"\n",
    "\n",
    "    def show(self, form: str = \"wide\"):\n",
    "        \"\"\"\n",
    "        Show the results of the most recent play.\n",
    "\n",
    "        Args:\n",
    "            form (str): Format of the returned DataFrame. Either 'wide' or 'narrow'.\n",
    "                                  'wide' returns the DataFrame as-is (default).\n",
    "                                  'narrow' returns a long-format version with three columns:\n",
    "                                  Roll Number, Die Number, and Face.\n",
    "\n",
    "        Returns:\n",
    "            pd.DataFrame: A copy of the play results in the specified format.\n",
    "\n",
    "        Raises:\n",
    "            ValueError: If the `form` argument is not 'wide' or 'narrow'.\n",
    "        \"\"\"\n",
    "        if self._results is None:\n",
    "            return pd.DataFrame()  # No play has occurred yet\n",
    "\n",
    "        if form == \"wide\":\n",
    "            return self._results.copy()\n",
    "        elif form == \"narrow\":\n",
    "            return self._results.reset_index().melt(id_vars=[\"Roll Number\"],\n",
    "                                                         var_name=\"Die Number\",\n",
    "                                                         value_name=\"Face\")\n",
    "        else:\n",
    "            raise ValueError(\"form must be either 'wide' or 'narrow'\")\n",
    "            \n",
    "            \n",
    "class Analyzer:\n",
    "    \"\"\"\n",
    "    An Analyzer takes the results of a single Game and computes descriptive statistics\n",
    "\n",
    "    Attributes:\n",
    "        game (Game): A Game object containing the results of the dice rolls\n",
    "        results (pd.DataFrame): The results of the game's last play (each row is a roll)\n",
    "    \"\"\"\n",
    "    def __init__(self, game):\n",
    "        \"\"\"\n",
    "        Initialize the Analyzer with a Game object.\n",
    "\n",
    "        Parameters:\n",
    "            game (Game): An instance of the Game object\n",
    "\n",
    "        Raises:\n",
    "            ValueError: If input is not an instance of Game\n",
    "        \"\"\"\n",
    "        if not isinstance(game, Game):\n",
    "            raise ValueError(\"The input must be a Game object.\")\n",
    "        \n",
    "        self.game = game\n",
    "        self.results = game.show('wide')\n",
    "        \n",
    "    def jackpot(self):\n",
    "        \"\"\"\n",
    "        Count how many times all dice in a roll showed the same face\n",
    "\n",
    "        Returns:\n",
    "            int: # of jackpots\n",
    "        \"\"\"\n",
    "        jackpots = self.results.nunique(axis = 1) == 1\n",
    "        return jackpots.sum()\n",
    "\n",
    "    def face_counts_per_roll(self):\n",
    "        \"\"\"\n",
    "        Counts how many times each face appeared in each roll\n",
    "\n",
    "        Returns:\n",
    "            pd.DataFrame: A DataFrame with roll number as index, face values as columns, and the count of each face per roll as values\n",
    "        \"\"\"\n",
    "        face_counts = self.results.apply(pd.Series.value_counts, axis = 1).fillna(0).astype(int)\n",
    "        face_counts.index.name = \"roll number\"\n",
    "        return face_counts\n",
    "\n",
    "    def combo(self):\n",
    "        \"\"\"\n",
    "        Counts the distinct combinations of faces rolled, along with their counts\n",
    "        \n",
    "        Combos are unordered ([1,2,3] is the same as [3,2,1]) and can include repeated faces\n",
    "\n",
    "        Returns:\n",
    "            pd.DataFrame: DataFrame indexed by combo with 'count' column.\n",
    "        \"\"\"\n",
    "        sorted_results = self.results.apply(lambda row: tuple(sorted(row)), axis=1)\n",
    "        combos = sorted_results.value_counts().sort_index()\n",
    "        combo_df = combos.to_frame(name='count')\n",
    "        combo_df.index = pd.MultiIndex.from_tuples(combo_df.index)\n",
    "        return combo_df\n",
    "\n",
    "    def permutation(self):\n",
    "        \"\"\"\n",
    "        Counts the distinct permutations of faces rolled (order matters), along with count\n",
    "\n",
    "        Returns:\n",
    "            pd.DataFrame: DataFrame indexed by permutation with 'count' column.\n",
    "        \"\"\"\n",
    "        perms = self.results.apply(lambda row: tuple(row), axis=1).value_counts().sort_index()\n",
    "        perm_df = perm.to_frame(name='count')\n",
    "        perm_df.index = pd.MultiIndex.from_tuples(perm_df.index)\n",
    "        return perm_df\n",
    "```"
   ]
  },
  {
   "cell_type": "markdown",
   "id": "6377727a-8f0a-491e-9f1c-d9dc225edd35",
   "metadata": {},
   "source": [
    "## Unitest Module (2)\n",
    "\n",
    "Paste a copy of your test module below.\n",
    "\n",
    "NOTE: Paste as text, not as code. Use triple backticks to wrap your code blocks.\n",
    "\n",
    "- All methods have at least one test method (1).\n",
    "- Each method employs one of Unittest's Assert methods (1)."
   ]
  },
  {
   "cell_type": "markdown",
   "id": "4041fe84-2d52-4441-a495-bd7e30b26bf1",
   "metadata": {},
   "source": [
    "```python\n",
    "import unittest\n",
    "import numpy as np\n",
    "import pandas as pd\n",
    "\n",
    "from montecarlo.montecarlo import Die, Game, Analyzer\n",
    "\n",
    "class TestDie(unittest.TestCase):\n",
    "    \"\"\"\n",
    "    Unit tests for the Die class.\n",
    "    \n",
    "    Tests:\n",
    "        - Initialization and internal structure\n",
    "        - Changing weight of a face\n",
    "        - Handling invalid inputs\n",
    "        - Rolling the die\n",
    "        - Showing the faces and weights\n",
    "    \"\"\"\n",
    "\n",
    "    def setUp(self):\n",
    "        \"\"\"Set up a standard 3-face die for testing.\"\"\"\n",
    "        self.faces = np.array([1, 2, 3])\n",
    "        self.die = Die(self.faces)\n",
    "\n",
    "    def test_init_(self):\n",
    "        \"\"\"\n",
    "        Test that the Die object creates an internal DataFrame with proper structure.\n",
    "        \"\"\"\n",
    "        self.assertIsInstance(self.die._df, pd.DataFrame)\n",
    "        self.assertListEqual(sorted(self.die._df.columns.tolist()), ['weight'])\n",
    "\n",
    "    def test_change_weight(self):\n",
    "        \"\"\"\n",
    "        Test that change_weight correctly modifies the weight of a face.\n",
    "        \"\"\"\n",
    "        self.die.change_weight(2, 5.0)\n",
    "        self.assertEqual(self.die._df.loc[2, 'weight'], 5.0)\n",
    "        \n",
    "    def test_change_weight_invalid_face(self):\n",
    "        \"\"\"\n",
    "        Test that change_weight raises IndexError for a non-existent face.\n",
    "        \"\"\"\n",
    "        with self.assertRaises(IndexError):\n",
    "            self.die.change_weight('invalid', 2.0)\n",
    "\n",
    "    def test_roll(self):\n",
    "        \"\"\"\n",
    "        Test that roll returns a NumPy array of the correct length.\n",
    "        \"\"\"\n",
    "        result = self.die.roll(5)\n",
    "        self.assertIsInstance(result, list)\n",
    "        self.assertEqual(len(result), 5)\n",
    "\n",
    "    def test_show_die(self):\n",
    "        \"\"\"\n",
    "        Test that show returns a DataFrame with 'face' and 'weight' columns.\n",
    "        \"\"\"\n",
    "        df = self.die.show_die()\n",
    "        self.assertIsInstance(df, pd.DataFrame)\n",
    "        self.assertListEqual(sorted(df.columns.tolist()), ['weight'])\n",
    "        self.assertTrue(df.index.is_unique)\n",
    "\n",
    "\n",
    "class TestGame(unittest.TestCase):\n",
    "    \"\"\"\n",
    "    Unit tests for the Game class.\n",
    "\n",
    "    Tests:\n",
    "        - Playing a game and saving results\n",
    "        - Showing results in wide and narrow format\n",
    "    \"\"\"\n",
    "\n",
    "    def setUp(self):\n",
    "        \"\"\"Set up a simple 2-die game using coin faces.\"\"\"\n",
    "        faces = np.array(['H', 'T'])\n",
    "        die1 = Die(faces)\n",
    "        die2 = Die(faces)\n",
    "        self.game = Game([die1, die2])\n",
    "\n",
    "    def test_play(self):\n",
    "        \"\"\"\n",
    "        Test that the play method creates a result DataFrame with correct shape.\n",
    "        \"\"\"\n",
    "        self.game.play(10)\n",
    "        df = self.game._results\n",
    "        self.assertEqual(df.shape, (10, 2))  # 10 rolls, 2 dice\n",
    "\n",
    "    def test_show_wide_format(self):\n",
    "        \"\"\"\n",
    "        Test that show('wide') returns a wide-format DataFrame.\n",
    "        \"\"\"\n",
    "        self.game.play(5)\n",
    "        result = self.game.show('wide')\n",
    "        self.assertIsInstance(result, pd.DataFrame)\n",
    "        self.assertEqual(result.shape[1], 2)  # 2 dice columns\n",
    "\n",
    "    def test_show_narrow_format(self):\n",
    "        \"\"\"\n",
    "        Test that show('narrow') returns a long-format DataFrame with correct columns.\n",
    "        \"\"\"\n",
    "        self.game.play(3)\n",
    "        result = self.game.show('narrow')\n",
    "        self.assertIsInstance(result, pd.DataFrame)\n",
    "        self.assertEqual(set(result.columns), {'roll number', 'die number', 'face'})\n",
    "\n",
    "\n",
    "class TestAnalyzer(unittest.TestCase):\n",
    "    \"\"\"\n",
    "    Unit tests for the Analyzer class.\n",
    "\n",
    "    Tests:\n",
    "        - Jackpot detection\n",
    "        - Face count per roll structure\n",
    "        - Combo frequency generation\n",
    "        - Permutation frequency generation\n",
    "    \"\"\"\n",
    "\n",
    "    def setUp(self):\n",
    "        \"\"\"Set up a game and analyzer for testing statistical properties.\"\"\"\n",
    "        faces = np.array([1, 2, 3])\n",
    "        dice = [Die(faces) for _ in range(3)]\n",
    "        self.game = Game(dice)\n",
    "        self.game.play(20)\n",
    "        self.analyzer = Analyzer(self.game)\n",
    "\n",
    "    def test_jackpot_output(self):\n",
    "        \"\"\"\n",
    "        Test that jackpot returns an integer (count of matching rolls).\n",
    "        \"\"\"\n",
    "        result = self.analyzer.jackpot()\n",
    "        self.assertIsInstance(result, int)\n",
    "\n",
    "    def test_face_counts_per_roll_structure(self):\n",
    "        \"\"\"\n",
    "        Test that face_counts_per_roll returns a DataFrame with roll count rows.\n",
    "        \"\"\"\n",
    "        df = self.analyzer.face_counts_per_roll()\n",
    "        self.assertIsInstance(df, pd.DataFrame)\n",
    "        self.assertEqual(df.shape[0], 20)\n",
    "\n",
    "    def test_combo_returns_dataframe(self):\n",
    "        \"\"\"\n",
    "        Test that combo returns a DataFrame with combinations and counts.\n",
    "        \"\"\"\n",
    "        combo_df = self.analyzer.combo()\n",
    "        self.assertIsInstance(combo_df, pd.DataFrame)\n",
    "        self.assertIn('count', combo_df.columns)\n",
    "\n",
    "    def test_permutation_returns_dataframe(self):\n",
    "        \"\"\"\n",
    "        Test that permutation returns a DataFrame with permutations and counts.\n",
    "        \"\"\"\n",
    "        perm_df = self.analyzer.permutation()\n",
    "        self.assertIsInstance(perm_df, pd.DataFrame)\n",
    "        self.assertIn('count', perm_df.columns)\n",
    "\n",
    "\n",
    "if __name__ == '__main__':\n",
    "    unittest.main()\n",
    "```"
   ]
  },
  {
   "cell_type": "markdown",
   "id": "3e058d03-29bc-408f-b36d-0605b4f4b8c0",
   "metadata": {
    "tags": []
   },
   "source": [
    "## Unittest Results (3)\n",
    "\n",
    "Put a copy of the results of running your tests from the command line here.\n",
    "\n",
    "Again, paste as text using triple backticks.\n",
    "\n",
    "- All 12 specified methods return OK (3; .25 each)."
   ]
  },
  {
   "cell_type": "markdown",
   "id": "173e1422-15bf-459b-8bf3-646e215e2406",
   "metadata": {
    "tags": []
   },
   "source": [
    "```python\n",
    "Ran 12 tests in 0.028s\n",
    "\n",
    "OK\n",
    "bash-4.4$python -m unittest -v test_montecarlo.py\n",
    "test_combo_returns_dataframe (test_montecarlo.TestAnalyzer.test_combo_returns_dataframe)\n",
    "Test that combo returns a DataFrame with combinations and counts. ... ok\n",
    "test_face_counts_per_roll_structure (test_montecarlo.TestAnalyzer.test_face_counts_per_roll_structure)\n",
    "Test that face_counts_per_roll returns a DataFrame with roll count rows. ... ok\n",
    "test_jackpot_output (test_montecarlo.TestAnalyzer.test_jackpot_output)\n",
    "Test that jackpot returns an integer (count of matching rolls). ... ok\n",
    "test_permutation_returns_dataframe (test_montecarlo.TestAnalyzer.test_permutation_returns_dataframe)\n",
    "Test that permutation returns a DataFrame with permutations and counts. ... ok\n",
    "test_change_weight (test_montecarlo.TestDie.test_change_weight)\n",
    "Test that change_weight correctly modifies the weight of a face. ... ok\n",
    "test_change_weight_invalid_face (test_montecarlo.TestDie.test_change_weight_invalid_face)\n",
    "Test that change_weight raises IndexError for a non-existent face. ... ok\n",
    "test_init_ (test_montecarlo.TestDie.test_init_)\n",
    "Test that the Die object creates an internal DataFrame with proper structure. ... ok\n",
    "test_roll (test_montecarlo.TestDie.test_roll)\n",
    "Test that roll returns a NumPy array of the correct length. ... ok\n",
    "test_show_die (test_montecarlo.TestDie.test_show_die)\n",
    "Test that show returns a DataFrame with 'face' and 'weight' columns. ... ok\n",
    "test_play (test_montecarlo.TestGame.test_play)\n",
    "Test that the play method creates a result DataFrame with correct shape. ... ok\n",
    "test_show_narrow_format (test_montecarlo.TestGame.test_show_narrow_format)\n",
    "Test that show('narrow') returns a long-format DataFrame with correct columns. ... ok\n",
    "test_show_wide_format (test_montecarlo.TestGame.test_show_wide_format)\n",
    "Test that show('wide') returns a wide-format DataFrame. ... ok\n",
    "\n",
    "----------------------------------------------------------------------\n",
    "Ran 12 tests in 0.028s\n",
    "\n",
    "OK\n",
    "```"
   ]
  },
  {
   "cell_type": "markdown",
   "id": "d9ffe8c5-eb2f-4ad1-af76-a46550e4c7ac",
   "metadata": {},
   "source": [
    "## Import (1)\n",
    "\n",
    "Import your module here. This import should refer to the code in your package directory.\n",
    "\n",
    "- Module successuflly imported (1)."
   ]
  },
  {
   "cell_type": "code",
   "execution_count": 79,
   "id": "a05dffb3-e6d6-4f78-9df4-5abd0cf74ca9",
   "metadata": {
    "tags": []
   },
   "outputs": [],
   "source": [
    "import montecarlo.montecarlo as montecarlo"
   ]
  },
  {
   "cell_type": "markdown",
   "id": "f30c4842-65b1-4556-98b6-3fe1a07e1371",
   "metadata": {},
   "source": [
    "## Help Docs (4)\n",
    "\n",
    "Show your docstring documentation by applying `help()` to your imported module.\n",
    "\n",
    "- All methods have a docstring (3; .25 each).\n",
    "- All classes have a docstring (1; .33 each)."
   ]
  },
  {
   "cell_type": "code",
   "execution_count": 80,
   "id": "bf4fbf1f-9885-471c-a0a6-e9ca90e160de",
   "metadata": {
    "tags": []
   },
   "outputs": [
    {
     "name": "stdout",
     "output_type": "stream",
     "text": [
      "Help on module montecarlo.montecarlo in montecarlo:\n",
      "\n",
      "NAME\n",
      "    montecarlo.montecarlo\n",
      "\n",
      "CLASSES\n",
      "    builtins.object\n",
      "        Analyzer\n",
      "        Die\n",
      "        Game\n",
      "    \n",
      "    class Analyzer(builtins.object)\n",
      "     |  Analyzer(game)\n",
      "     |  \n",
      "     |  An Analyzer takes the results of a single Game and computes descriptive statistics\n",
      "     |  \n",
      "     |  Attributes:\n",
      "     |      game (Game): A Game object containing the results of the dice rolls\n",
      "     |      results (pd.DataFrame): The results of the game's last play (each row is a roll)\n",
      "     |  \n",
      "     |  Methods defined here:\n",
      "     |  \n",
      "     |  __init__(self, game)\n",
      "     |      Initialize the Analyzer with a Game object.\n",
      "     |      \n",
      "     |      Parameters:\n",
      "     |          game (Game): An instance of the Game object\n",
      "     |      \n",
      "     |      Raises:\n",
      "     |          ValueError: If input is not an instance of Game\n",
      "     |  \n",
      "     |  combo(self)\n",
      "     |      Counts the distinct combinations of faces rolled, along with their counts\n",
      "     |      \n",
      "     |      Combos are unordered ([1,2,3] is the same as [3,2,1]) and can include repeated faces\n",
      "     |      \n",
      "     |      Returns:\n",
      "     |          pd.DataFrame: DataFrame indexed by combo with 'count' column.\n",
      "     |  \n",
      "     |  face_counts_per_roll(self)\n",
      "     |      Counts how many times each face appeared in each roll\n",
      "     |      \n",
      "     |      Returns:\n",
      "     |          pd.DataFrame: A DataFrame with roll number as index, face values as columns, and the count of each face per roll as values\n",
      "     |  \n",
      "     |  jackpot(self)\n",
      "     |      Count how many times all dice in a roll showed the same face\n",
      "     |      \n",
      "     |      Returns:\n",
      "     |          int: # of jackpots\n",
      "     |  \n",
      "     |  permutation(self)\n",
      "     |      Counts the distinct permutations of faces rolled (order matters), along with count\n",
      "     |      \n",
      "     |      Returns:\n",
      "     |          pd.DataFrame: DataFrame indexed by permutation with 'count' column.\n",
      "     |  \n",
      "     |  ----------------------------------------------------------------------\n",
      "     |  Data descriptors defined here:\n",
      "     |  \n",
      "     |  __dict__\n",
      "     |      dictionary for instance variables (if defined)\n",
      "     |  \n",
      "     |  __weakref__\n",
      "     |      list of weak references to the object (if defined)\n",
      "    \n",
      "    class Die(builtins.object)\n",
      "     |  Die(faces: numpy.ndarray)\n",
      "     |  \n",
      "     |  A class representing a single die with N sides and W weights.\n",
      "     |  \n",
      "     |  Each face has a unique symbol, and a weight associated with it that determines the likelihood of that face being rolled. By default, all weights are 1.0, making the die fair, but can be changed after the object is created. The die can be rolled to select a face based on weights.\n",
      "     |  \n",
      "     |  Attributes:\n",
      "     |      faces (np.ndarray): A NumPy array of unique face symbols.\n",
      "     |      weights (np.ndarray): A NumPy array of weights, defaulting to 1.0 for each face.\n",
      "     |      _df (pd.DataFrame): A private DataFrame storing faces and weights with faces as the index.\n",
      "     |  \n",
      "     |  Methods defined here:\n",
      "     |  \n",
      "     |  __init__(self, faces: numpy.ndarray)\n",
      "     |      Initializes the Die object with the provided faces.\n",
      "     |      \n",
      "     |      Args:\n",
      "     |          faces (np.ndarray): A NumPy array of unique face symbols (must be strings or numbers).\n",
      "     |      \n",
      "     |      Raises:\n",
      "     |          TypeError: If `faces` is not a NumPy array.\n",
      "     |          ValueError: If the values in `faces` are not distinct.\n",
      "     |  \n",
      "     |  change_weight(self, face, new_weight)\n",
      "     |      Changes the weight of a single face on the die.\n",
      "     |      \n",
      "     |      Args:\n",
      "     |          face (str or int): The face value whose weight should be changed.\n",
      "     |          new_weight (float): The new weight to assign to the face chosen.\n",
      "     |      \n",
      "     |      Raises:\n",
      "     |          IndexError: If the face is not found in the die.\n",
      "     |          TypeError: If the weight is not numeric or cannot be cast as numeric.\n",
      "     |  \n",
      "     |  roll(self, num_rolls=1)\n",
      "     |      Rolls the die one or more times using the current weights.\n",
      "     |      \n",
      "     |      Args:\n",
      "     |          num_rolls (int): Number of rolls to perform. Defaults to 1.\n",
      "     |      \n",
      "     |      Returns:\n",
      "     |          list: A list of outcomes from the rolls.\n",
      "     |      \n",
      "     |      Raises:\n",
      "     |          ValueError: If `num_rolls` is not a positive integer.\n",
      "     |  \n",
      "     |  show_die(self)\n",
      "     |      Show the current faces and weights of the die.\n",
      "     |      \n",
      "     |      Returns:\n",
      "     |          pd.DataFrame: A copy of the internal dataframe.\n",
      "     |  \n",
      "     |  ----------------------------------------------------------------------\n",
      "     |  Data descriptors defined here:\n",
      "     |  \n",
      "     |  __dict__\n",
      "     |      dictionary for instance variables (if defined)\n",
      "     |  \n",
      "     |  __weakref__\n",
      "     |      list of weak references to the object (if defined)\n",
      "    \n",
      "    class Game(builtins.object)\n",
      "     |  Game(dice_list: list)\n",
      "     |  \n",
      "     |  A Game consists of rolling one or more Die objects a specified number of times.\n",
      "     |  \n",
      "     |  The game is played by rolling all provided dice a specified number of times.\n",
      "     |  Dice in a game are considered similar if they have the same faces, although their weights may differ.\n",
      "     |  The Game class only stores the results of the most recent play.\n",
      "     |  \n",
      "     |  Attributes:\n",
      "     |      dice (list): A list of Die objects.\n",
      "     |      _results (pd.DataFrame): Results of the most recent play.\n",
      "     |  \n",
      "     |  Methods defined here:\n",
      "     |  \n",
      "     |  __init__(self, dice_list: list)\n",
      "     |      Initialize the Game with a list of Die objects.\n",
      "     |      \n",
      "     |      Args:\n",
      "     |          dice_list (list): List of Die objects.\n",
      "     |      \n",
      "     |      Raises:\n",
      "     |          TypeError: If any item in the list is not an instance of the Die class.\n",
      "     |          ValueError: If not all dice have the same faces.\n",
      "     |  \n",
      "     |  play(self, num_rolls: int)\n",
      "     |      Roll all dice for a specified number of times and store the result.\n",
      "     |      \n",
      "     |      Args:\n",
      "     |          n_rolls (int): Number of times to roll the dice.\n",
      "     |          \n",
      "     |      Raises:\n",
      "     |          ValueError: If `num_rolls` is not a positive integer.\n",
      "     |  \n",
      "     |  show(self, form: str = 'wide')\n",
      "     |      Show the results of the most recent play.\n",
      "     |      \n",
      "     |      Args:\n",
      "     |          form (str): Format of the returned DataFrame. Either 'wide' or 'narrow'.\n",
      "     |                                'wide' returns the DataFrame as-is (default).\n",
      "     |                                'narrow' returns a long-format version with three columns:\n",
      "     |                                roll number, die number, and face.\n",
      "     |      \n",
      "     |      Returns:\n",
      "     |          pd.DataFrame: A copy of the play results in the specified format.\n",
      "     |      \n",
      "     |      Raises:\n",
      "     |          ValueError: If the `form` argument is not 'wide' or 'narrow'.\n",
      "     |  \n",
      "     |  ----------------------------------------------------------------------\n",
      "     |  Data descriptors defined here:\n",
      "     |  \n",
      "     |  __dict__\n",
      "     |      dictionary for instance variables (if defined)\n",
      "     |  \n",
      "     |  __weakref__\n",
      "     |      list of weak references to the object (if defined)\n",
      "\n",
      "FILE\n",
      "    /sfs/gpfs/tardis/home/ewu9af/PROJECT/montecarlo/montecarlo.py\n",
      "\n",
      "\n"
     ]
    }
   ],
   "source": [
    "help(montecarlo)"
   ]
  },
  {
   "cell_type": "markdown",
   "id": "a9defa84-b395-4966-bd1c-5c6c2bb7ed68",
   "metadata": {},
   "source": [
    "## `README.md` File (3)\n",
    "\n",
    "Provide link to the README.md file of your project's repo.\n",
    "\n",
    "- Metadata section or info present (1).\n",
    "- Synopsis section showing how each class is called (1). (All must be included.)\n",
    "- API section listing all classes and methods (1). (All must be included.)"
   ]
  },
  {
   "cell_type": "markdown",
   "id": "ee090b33-d593-48a0-bf35-e739cea0942c",
   "metadata": {},
   "source": [
    "URL: https://github.com/shriyakuruba/PROJECT/blob/main/README.md"
   ]
  },
  {
   "cell_type": "markdown",
   "id": "108604c8-8827-42ef-ab59-6b25428fc0ca",
   "metadata": {},
   "source": [
    "## Successful installation (2)\n",
    "\n",
    "Put a screenshot or paste a copy of a terminal session where you successfully install your module with pip.\n",
    "\n",
    "If pasting text, use a preformatted text block to show the results.\n",
    "\n",
    "- Installed with `pip` (1).\n",
    "- Successfully installed message appears (1)."
   ]
  },
  {
   "cell_type": "markdown",
   "id": "2d7c5ad9-a9d0-46e7-8707-08ab8654f0c7",
   "metadata": {},
   "source": [
    "```python\n",
    "bash-4.4$pip install .\n",
    "Defaulting to user installation because normal site-packages is not writeable\n",
    "Processing /sfs/gpfs/tardis/home/ewu9af/PROJECT\n",
    "  Preparing metadata (setup.py) ... done\n",
    "Building wheels for collected packages: montecarlo\n",
    "  Building wheel for montecarlo (setup.py) ... done\n",
    "  Created wheel for montecarlo: filename=montecarlo-1-py3-none-any.whl size=5368 sha256=4fc4083dd24f6fd475351907206b4dd7a3fab174bd23d7e6481e80697dc2c6ee\n",
    "  Stored in directory: /tmp/pip-ephem-wheel-cache-_ms1hlz3/wheels/38/b0/3d/750d7bd5b3be937cdafbd0b00bcc30055951da8f3983c581ea\n",
    "Successfully built montecarlo\n",
    "Installing collected packages: montecarlo\n",
    "Successfully installed montecarlo-1\n",
    "```"
   ]
  },
  {
   "cell_type": "markdown",
   "id": "7c44695d-d1b3-4edf-9f94-e64d7446f199",
   "metadata": {},
   "source": [
    "# Scenarios\n",
    "\n",
    "Use code blocks to perform the tasks for each scenario.\n",
    "\n",
    "Be sure the outputs are visible before submitting."
   ]
  },
  {
   "cell_type": "markdown",
   "id": "e2479eae-6fc9-44cd-b8d7-9b22cb501f2a",
   "metadata": {
    "tags": []
   },
   "source": [
    "## Scenario 1: A 2-headed Coin (9)\n",
    "\n",
    "Task 1. Create a fair coin (with faces $H$ and $T$) and one unfair coin in which one of the faces has a weight of $5$ and the others $1$.\n",
    "\n",
    "- Fair coin created (1).\n",
    "- Unfair coin created with weight as specified (1)."
   ]
  },
  {
   "cell_type": "code",
   "execution_count": 1,
   "id": "7e2b52b7-c029-4256-ab9e-21f060feee3c",
   "metadata": {
    "tags": []
   },
   "outputs": [],
   "source": [
    "import numpy as np\n",
    "import pandas as pd\n",
    "\n",
    "from montecarlo import Die, Game, Analyzer"
   ]
  },
  {
   "cell_type": "code",
   "execution_count": 2,
   "id": "55ce498e-c75f-4425-9e3e-b635bd6cd9e1",
   "metadata": {},
   "outputs": [
    {
     "name": "stdout",
     "output_type": "stream",
     "text": [
      "      weight\n",
      "face        \n",
      "H        1.0\n",
      "T        1.0\n"
     ]
    }
   ],
   "source": [
    "faces = np.array(['H', 'T'])\n",
    "fair_coin = Die(faces)\n",
    "print(fair_coin.show_die())"
   ]
  },
  {
   "cell_type": "code",
   "execution_count": 3,
   "id": "55b7f52a-19d0-4969-9f1f-9cc56edc7657",
   "metadata": {
    "tags": []
   },
   "outputs": [
    {
     "name": "stdout",
     "output_type": "stream",
     "text": [
      "      weight\n",
      "face        \n",
      "H        5.0\n",
      "T        1.0\n"
     ]
    }
   ],
   "source": [
    "unfair_coin = Die(faces)\n",
    "unfair_coin.change_weight('H', 5)\n",
    "print(unfair_coin.show_die())"
   ]
  },
  {
   "cell_type": "markdown",
   "id": "02b272ab-99da-4b6e-ac2a-555b73e09c07",
   "metadata": {},
   "source": [
    "Task 2. Play a game of $1000$ flips with two fair dice.\n",
    "\n",
    "- Play method called correclty and without error (1)."
   ]
  },
  {
   "cell_type": "code",
   "execution_count": 4,
   "id": "65c92601-d32d-4326-b215-74953aee27f2",
   "metadata": {},
   "outputs": [
    {
     "name": "stdout",
     "output_type": "stream",
     "text": [
      "             0  1\n",
      "roll number      \n",
      "0            H  H\n",
      "1            H  T\n",
      "2            T  T\n",
      "3            T  T\n",
      "4            T  H\n",
      "...         .. ..\n",
      "995          H  T\n",
      "996          H  T\n",
      "997          T  T\n",
      "998          H  H\n",
      "999          H  T\n",
      "\n",
      "[1000 rows x 2 columns]\n"
     ]
    }
   ],
   "source": [
    "die1 = fair_coin\n",
    "die2 = fair_coin\n",
    "\n",
    "game1 = Game([die1, die2])\n",
    "\n",
    "game1.play(1000)\n",
    "print(game1.show('wide'))"
   ]
  },
  {
   "cell_type": "markdown",
   "id": "7d9c3dc8-22c1-4cae-81fb-d68d774a05d1",
   "metadata": {},
   "source": [
    "Task 3. Play another game (using a new Game object) of $1000$ flips, this time using two unfair dice and one fair die. For the second unfair die, you can use the same die object twice in the list of dice you pass to the Game object.\n",
    "\n",
    "- New game object created (1).\n",
    "- Play method called correclty and without error (1)."
   ]
  },
  {
   "cell_type": "code",
   "execution_count": 5,
   "id": "d4098bed-1eb2-4084-8d5e-9fda07c3be43",
   "metadata": {},
   "outputs": [
    {
     "name": "stdout",
     "output_type": "stream",
     "text": [
      "             0  1  2\n",
      "roll number         \n",
      "0            H  H  T\n",
      "1            H  T  T\n",
      "2            H  H  H\n",
      "3            H  H  T\n",
      "4            H  H  T\n",
      "...         .. .. ..\n",
      "995          H  T  H\n",
      "996          H  H  T\n",
      "997          H  H  T\n",
      "998          H  H  T\n",
      "999          T  T  H\n",
      "\n",
      "[1000 rows x 3 columns]\n"
     ]
    }
   ],
   "source": [
    "game2 = Game([unfair_coin, unfair_coin, fair_coin])\n",
    "\n",
    "game2.play(1000)\n",
    "print(game2.show('wide'))"
   ]
  },
  {
   "cell_type": "markdown",
   "id": "f690ebfc-fe71-4eb2-976d-7ac80ca6c23f",
   "metadata": {},
   "source": [
    "Task 4. For each game, use an Analyzer object to determine the raw frequency of jackpots — i.e. getting either all $H$s or all $T$s.\n",
    "\n",
    "- Analyzer objecs instantiated for both games (1).\n",
    "- Raw frequencies reported for both (1)."
   ]
  },
  {
   "cell_type": "code",
   "execution_count": 6,
   "id": "b26b8b7e-3be7-4476-a9a4-37d97536729e",
   "metadata": {},
   "outputs": [
    {
     "name": "stdout",
     "output_type": "stream",
     "text": [
      "Game 1: 504\n"
     ]
    }
   ],
   "source": [
    "analyzer1 = Analyzer(game1)\n",
    "jackpot1 = analyzer1.jackpot()\n",
    "print(f\"Game 1: {jackpot1}\")"
   ]
  },
  {
   "cell_type": "code",
   "execution_count": 7,
   "id": "ed33aad1-5600-4aff-a8c1-478f9b3171ab",
   "metadata": {
    "tags": []
   },
   "outputs": [
    {
     "name": "stdout",
     "output_type": "stream",
     "text": [
      "Game 2: 339\n"
     ]
    }
   ],
   "source": [
    "analyzer2 = Analyzer(game2)\n",
    "jackpot2 = analyzer2.jackpot()\n",
    "print(f\"Game 2: {jackpot2}\")"
   ]
  },
  {
   "cell_type": "markdown",
   "id": "b73d233c-445e-40cd-8858-0c5e1f097105",
   "metadata": {},
   "source": [
    "Task 5. For each analyzer, compute relative frequency as the number of jackpots over the total number of rolls.\n",
    "\n",
    "- Both relative frequencies computed (1)."
   ]
  },
  {
   "cell_type": "code",
   "execution_count": 8,
   "id": "9a96b31b-1b9d-496e-be3e-4bf83c45ec3a",
   "metadata": {},
   "outputs": [
    {
     "name": "stdout",
     "output_type": "stream",
     "text": [
      "Game 1: 0.5040\n",
      "Game 2:0.3390\n"
     ]
    }
   ],
   "source": [
    "total_rolls_game1 = analyzer1.results.shape[0]\n",
    "total_rolls_game2 = analyzer2.results.shape[0]\n",
    "\n",
    "relative_freq1 = jackpot1 / total_rolls_game1\n",
    "relative_freq2 = jackpot2 / total_rolls_game2\n",
    "\n",
    "print(f\"Game 1: {relative_freq1:.4f}\")\n",
    "print(f\"Game 2:{relative_freq2:.4f}\")"
   ]
  },
  {
   "cell_type": "markdown",
   "id": "a6e1e734-7f5c-4721-8ba4-2f3a424cf984",
   "metadata": {},
   "source": [
    "Task 6. Show your results, comparing the two relative frequencies, in a simple bar chart.\n",
    "\n",
    "- Bar chart plotted and correct (1)."
   ]
  },
  {
   "cell_type": "code",
   "execution_count": 9,
   "id": "473fa67c-aa53-4aa3-a0b7-e8772b3f6ed3",
   "metadata": {},
   "outputs": [
    {
     "data": {
      "image/png": "[encoded data removed]",
      "text/plain": [
       "<Figure size 640x480 with 1 Axes>"
      ]
     },
     "metadata": {},
     "output_type": "display_data"
    }
   ],
   "source": [
    "import matplotlib.pyplot as plt\n",
    "\n",
    "labels = ['Game 1', 'Game 2']\n",
    "frequencies = [relative_freq1, relative_freq2]\n",
    "\n",
    "plt.bar(labels, frequencies)\n",
    "plt.ylabel('Jackpot Frequency')\n",
    "plt.title('Comparison of Jackpot Frequencies')\n",
    "\n",
    "plt.show()"
   ]
  },
  {
   "cell_type": "markdown",
   "id": "725cfa5b-e4b7-47c9-86aa-8d9e1fe6c8c7",
   "metadata": {},
   "source": [
    "## Scenario 2: A 6-sided Die (9)\n",
    "\n",
    "Task 1. Create three dice, each with six sides having the faces 1 through 6.\n",
    "\n",
    "- Three die objects created (1)."
   ]
  },
  {
   "cell_type": "code",
   "execution_count": 10,
   "id": "6a8bc611-325a-4e05-88d5-980e0a2cf7c5",
   "metadata": {},
   "outputs": [],
   "source": [
    "faces6 = np.array([1, 2, 3, 4, 5, 6])\n",
    "\n",
    "die1 = Die(faces6)\n",
    "die2 = Die(faces6)\n",
    "die3 = Die(faces6)"
   ]
  },
  {
   "cell_type": "code",
   "execution_count": 11,
   "id": "a6cfda07-1e5b-4d20-9607-796e1148edc4",
   "metadata": {
    "tags": []
   },
   "outputs": [
    {
     "name": "stdout",
     "output_type": "stream",
     "text": [
      "Die 1:       weight\n",
      "face        \n",
      "1        1.0\n",
      "2        1.0\n",
      "3        1.0\n",
      "4        1.0\n",
      "5        1.0\n",
      "6        1.0\n"
     ]
    }
   ],
   "source": [
    "print(f\"Die 1: {die1.show_die()}\")"
   ]
  },
  {
   "cell_type": "code",
   "execution_count": 12,
   "id": "6ba077fe-5dfe-4112-854a-ad85cebb5ae2",
   "metadata": {
    "tags": []
   },
   "outputs": [
    {
     "name": "stdout",
     "output_type": "stream",
     "text": [
      "Die 2:       weight\n",
      "face        \n",
      "1        1.0\n",
      "2        1.0\n",
      "3        1.0\n",
      "4        1.0\n",
      "5        1.0\n",
      "6        1.0\n"
     ]
    }
   ],
   "source": [
    "print(f\"Die 2: {die2.show_die()}\")"
   ]
  },
  {
   "cell_type": "code",
   "execution_count": 13,
   "id": "00803172-285f-4ac0-a21a-79f39018deb3",
   "metadata": {
    "tags": []
   },
   "outputs": [
    {
     "name": "stdout",
     "output_type": "stream",
     "text": [
      "Die 3:       weight\n",
      "face        \n",
      "1        1.0\n",
      "2        1.0\n",
      "3        1.0\n",
      "4        1.0\n",
      "5        1.0\n",
      "6        1.0\n"
     ]
    }
   ],
   "source": [
    "print(f\"Die 3: {die3.show_die()}\")"
   ]
  },
  {
   "cell_type": "markdown",
   "id": "2ed3ad26-fbe9-43bd-9ad7-f683a4191d12",
   "metadata": {},
   "source": [
    "Task 2. Convert one of the dice to an unfair one by weighting the face $6$ five times more than the other weights (i.e. it has weight of 5 and the others a weight of 1 each).\n",
    "\n",
    "- Unfair die created with proper call to weight change method (1)."
   ]
  },
  {
   "cell_type": "code",
   "execution_count": 14,
   "id": "e33dd18f-7f90-456d-a680-61c08a328e21",
   "metadata": {},
   "outputs": [
    {
     "name": "stdout",
     "output_type": "stream",
     "text": [
      "New Die 1:       weight\n",
      "face        \n",
      "1        1.0\n",
      "2        1.0\n",
      "3        1.0\n",
      "4        1.0\n",
      "5        1.0\n",
      "6        5.0\n"
     ]
    }
   ],
   "source": [
    "die1.change_weight(6, 5)\n",
    "\n",
    "print(f\"New Die 1: {die1.show_die()}\")"
   ]
  },
  {
   "cell_type": "markdown",
   "id": "7f6c062a-4c5b-45b9-96b8-76a0354c7e47",
   "metadata": {},
   "source": [
    "Task 3. Convert another of the dice to be unfair by weighting the face $1$ five times more than the others.\n",
    "\n",
    "- Unfair die created with proper call to weight change method (1)."
   ]
  },
  {
   "cell_type": "code",
   "execution_count": 15,
   "id": "01133a4e-6b06-4246-8d90-8e6d6995be51",
   "metadata": {},
   "outputs": [
    {
     "name": "stdout",
     "output_type": "stream",
     "text": [
      "New Die 3:       weight\n",
      "face        \n",
      "1        5.0\n",
      "2        1.0\n",
      "3        1.0\n",
      "4        1.0\n",
      "5        1.0\n",
      "6        1.0\n"
     ]
    }
   ],
   "source": [
    "die3.change_weight(1, 5)\n",
    "\n",
    "print(f\"New Die 3: {die3.show_die()}\")"
   ]
  },
  {
   "cell_type": "markdown",
   "id": "f0ed31cb-0a3c-4eb2-b85e-6ed6b2eb6e58",
   "metadata": {},
   "source": [
    "Task 4. Play a game of $10000$ rolls with $5$ fair dice.\n",
    "\n",
    "- Game class properly instantiated (1). \n",
    "- Play method called properly (1)."
   ]
  },
  {
   "cell_type": "code",
   "execution_count": 16,
   "id": "e92395a4-9ed8-4cb0-8c85-38768a784ffc",
   "metadata": {},
   "outputs": [
    {
     "name": "stdout",
     "output_type": "stream",
     "text": [
      "             0  1  2  3  4\n",
      "roll number               \n",
      "0            5  6  6  1  6\n",
      "1            5  5  3  4  6\n",
      "2            4  2  1  6  4\n",
      "3            6  4  5  4  1\n",
      "4            2  4  4  3  4\n",
      "...         .. .. .. .. ..\n",
      "9995         1  5  2  1  6\n",
      "9996         4  1  6  6  2\n",
      "9997         3  4  4  6  2\n",
      "9998         5  2  1  2  1\n",
      "9999         3  6  1  6  6\n",
      "\n",
      "[10000 rows x 5 columns]\n"
     ]
    }
   ],
   "source": [
    "fair_dice1 = Die(faces6)\n",
    "fair_dice2 = Die(faces6)\n",
    "fair_dice3 = Die(faces6)\n",
    "fair_dice4 = Die(faces6)\n",
    "fair_dice5 = Die(faces6)\n",
    "\n",
    "game_fair = Game([fair_dice1, fair_dice2, fair_dice3, fair_dice4, fair_dice5])\n",
    "game_fair.play(10000)\n",
    "\n",
    "print(game_fair.show('wide'))"
   ]
  },
  {
   "cell_type": "markdown",
   "id": "7814b402-46a4-40e5-8141-20e05c3e646b",
   "metadata": {},
   "source": [
    "Task 5. Play another game of $10000$ rolls, this time with $2$ unfair dice, one as defined in steps #2 and #3 respectively, and $3$ fair dice.\n",
    "\n",
    "- Game class properly instantiated (1). \n",
    "- Play method called properly (1)."
   ]
  },
  {
   "cell_type": "code",
   "execution_count": 17,
   "id": "7cd58fba-b2a5-4d5d-bc6d-2a7a68d18c4f",
   "metadata": {},
   "outputs": [
    {
     "name": "stdout",
     "output_type": "stream",
     "text": [
      "             0  1  2  3  4\n",
      "roll number               \n",
      "0            6  5  6  3  5\n",
      "1            4  1  2  6  2\n",
      "2            2  1  4  3  1\n",
      "3            6  1  2  1  6\n",
      "4            4  4  5  6  4\n",
      "...         .. .. .. .. ..\n",
      "9995         5  3  2  4  4\n",
      "9996         3  1  1  5  2\n",
      "9997         1  3  5  2  2\n",
      "9998         1  1  3  5  4\n",
      "9999         4  2  4  5  6\n",
      "\n",
      "[10000 rows x 5 columns]\n"
     ]
    }
   ],
   "source": [
    "game_unfair = Game([die1, die3, fair_dice2, fair_dice4, fair_dice5])\n",
    "\n",
    "game_unfair.play(10000)\n",
    "print(game_unfair.show('wide'))"
   ]
  },
  {
   "cell_type": "markdown",
   "id": "7b6cd372-2bb8-4df8-ade1-8f48bc300955",
   "metadata": {},
   "source": [
    "Task 6. For each game, use an Analyzer object to determine the relative frequency of jackpots and show your results, comparing the two relative frequencies, in a simple bar chart.\n",
    "\n",
    "- Jackpot methods called (1).\n",
    "- Graph produced (1)."
   ]
  },
  {
   "cell_type": "code",
   "execution_count": 69,
   "id": "bbdcf695-8937-406e-9b53-aa0b9ee3c59a",
   "metadata": {},
   "outputs": [
    {
     "name": "stdout",
     "output_type": "stream",
     "text": [
      "Fair Game: 9 (0.0009)\n",
      "Unfair Game: 8 (0.0008)\n"
     ]
    },
    {
     "data": {
      "image/png": "[encoded data removed]",
      "text/plain": [
       "<Figure size 640x480 with 1 Axes>"
      ]
     },
     "metadata": {},
     "output_type": "display_data"
    }
   ],
   "source": [
    "analyzer_fair = Analyzer(game_fair)\n",
    "analyzer_unfair = Analyzer(game_unfair)\n",
    "\n",
    "jackpot_fair = analyzer_fair.jackpot()\n",
    "jackpot_unfair = analyzer_unfair.jackpot()\n",
    "\n",
    "relative_fair = jackpot_fair / analyzer_fair.results.shape[0]\n",
    "relative_unfair = jackpot_unfair / analyzer_unfair.results.shape[0]\n",
    "\n",
    "print(f\"Fair Game: {jackpot_fair} ({relative_fair})\")\n",
    "print(f\"Unfair Game: {jackpot_unfair} ({relative_unfair})\")\n",
    "\n",
    "plt.bar(['Fair Game', 'Unfair Game'], [relative_fair, relative_unfair])\n",
    "plt.ylabel('Relative Jackpot Frequency')\n",
    "plt.title('Jackpot Frequency: Fair vs. Unfair Games')\n",
    "plt.show()"
   ]
  },
  {
   "cell_type": "markdown",
   "id": "9f04e9be-8fcf-4ea4-a391-6614608285f8",
   "metadata": {},
   "source": [
    "## Scenario 3: Letters of the Alphabet (7)\n",
    "\n",
    "Task 1. Create a \"die\" of letters from $A$ to $Z$ with weights based on their frequency of usage as found in the data file `english_letters.txt`. Use the frequencies (i.e. raw counts) as weights.\n",
    "\n",
    "- Die correctly instantiated with source file data (1).\n",
    "- Weights properly applied using weight setting method (1)."
   ]
  },
  {
   "cell_type": "code",
   "execution_count": 20,
   "id": "b0ceb771-3cdf-4d8f-8c2c-020806bbb909",
   "metadata": {},
   "outputs": [
    {
     "name": "stdout",
     "output_type": "stream",
     "text": [
      "           weight\n",
      "face             \n",
      "E     529117365.0\n",
      "T     390965105.0\n",
      "A     374061888.0\n",
      "O     326627740.0\n",
      "I     320410057.0\n",
      "N     313720540.0\n",
      "S     294300210.0\n",
      "R     277000841.0\n",
      "H     216768975.0\n",
      "L     183996130.0\n",
      "D     169330528.0\n",
      "C     138416451.0\n",
      "U     117295780.0\n",
      "M     110504544.0\n",
      "F      95422055.0\n",
      "G      91258980.0\n",
      "P      90376747.0\n",
      "W      79843664.0\n",
      "Y      75294515.0\n",
      "B      70195826.0\n",
      "V      46337161.0\n",
      "K      35373464.0\n",
      "J       9613410.0\n",
      "X       8369915.0\n",
      "Z       4975847.0\n",
      "Q       4550166.0\n"
     ]
    }
   ],
   "source": [
    "df = pd.read_csv(\"english_letters.txt\", sep=\"\\s+\", header=None, names=[\"letter\", \"frequency\"])\n",
    "\n",
    "letters = df[\"letter\"].values\n",
    "letter_die = Die(letters)\n",
    "\n",
    "for i in range(len(df)):\n",
    "    face = df.loc[i, \"letter\"]\n",
    "    weight = df.loc[i, \"frequency\"]\n",
    "    letter_die.change_weight(face, weight)\n",
    "\n",
    "print(letter_die.show_die())"
   ]
  },
  {
   "cell_type": "markdown",
   "id": "88e2e14a-6223-470a-a2c8-bca1120d7a5b",
   "metadata": {},
   "source": [
    "Task 2. Play a game involving $4$ of these dice with $1000$ rolls.\n",
    "\n",
    "- Game play method properly called (1)."
   ]
  },
  {
   "cell_type": "code",
   "execution_count": 56,
   "id": "2ae087cc-936d-4f1e-bddb-a7c179d139e0",
   "metadata": {},
   "outputs": [
    {
     "name": "stdout",
     "output_type": "stream",
     "text": [
      "             0  1  2  3\n",
      "roll number            \n",
      "0            R  T  P  S\n",
      "1            A  A  A  N\n",
      "2            S  O  A  E\n",
      "3            H  T  O  O\n",
      "4            U  I  M  T\n",
      "...         .. .. .. ..\n",
      "995          E  E  B  C\n",
      "996          L  C  D  S\n",
      "997          E  R  R  W\n",
      "998          E  A  N  D\n",
      "999          I  S  I  H\n",
      "\n",
      "[1000 rows x 4 columns]\n"
     ]
    }
   ],
   "source": [
    "letter_die1 = letter_die\n",
    "letter_die2 = letter_die\n",
    "letter_die3 = letter_die\n",
    "letter_die4 = letter_die\n",
    "\n",
    "game_letters = Game([letter_die1, letter_die2, letter_die3, letter_die4])\n",
    "\n",
    "game_letters.play(1000)\n",
    "print(game_letters.show(\"wide\"))"
   ]
  },
  {
   "cell_type": "markdown",
   "id": "3b9ff800-bf1f-4f66-9d7f-ff57a648e9f0",
   "metadata": {},
   "source": [
    "Task 3. Determine how many permutations in your results are actual English words, based on the vocabulary found in `scrabble_words.txt`.\n",
    "\n",
    "- Use permutation method (1).\n",
    "- Get count as difference between permutations and vocabulary (1)."
   ]
  },
  {
   "cell_type": "code",
   "execution_count": 71,
   "id": "ed1c7fa0-cfa3-4cf4-9fd0-9f84b86b0f64",
   "metadata": {},
   "outputs": [
    {
     "name": "stdout",
     "output_type": "stream",
     "text": [
      "# English words in permutations: 53\n"
     ]
    }
   ],
   "source": [
    "with open(\"scrabble_words.txt\", \"r\") as file:\n",
    "    valid_words = set(word.strip().lower() for word in file.readlines())\n",
    "\n",
    "analyzer_letters = Analyzer(game_letters)\n",
    "permutations = analyzer_letters.permutation().reset_index()\n",
    "\n",
    "# Identify columns with letters\n",
    "letter_cols = [col for col in permutations.columns if col != 'count']\n",
    "\n",
    "# Build words from the letter columns\n",
    "permutations['word'] = permutations[letter_cols].apply(\n",
    "    lambda row: ''.join(str(c).lower() for c in row),\n",
    "    axis=1\n",
    ")\n",
    "\n",
    "# Filter valid words and count them\n",
    "valid_permutations = permutations[permutations['word'].isin(valid_words)]\n",
    "valid_word_count = valid_permutations['count'].sum()\n",
    "\n",
    "print(f\"# English words in permutations: {valid_word_count}\")"
   ]
  },
  {
   "cell_type": "markdown",
   "id": "fcf068cf-381a-4b3e-ac3a-0510eb4dbdb0",
   "metadata": {},
   "source": [
    "Task 4. Repeat steps #2 and #3, this time with $5$ dice. How many actual words does this produce? Which produces more?\n",
    "\n",
    "- Successfully repreats steps (1).\n",
    "- Identifies parameter with most found words (1)."
   ]
  },
  {
   "cell_type": "code",
   "execution_count": 72,
   "id": "e91d7055-eebb-4687-b79e-243ad8d26b16",
   "metadata": {
    "tags": []
   },
   "outputs": [
    {
     "name": "stdout",
     "output_type": "stream",
     "text": [
      "             0  1  2  3  4\n",
      "roll number               \n",
      "0            O  T  P  N  C\n",
      "1            I  B  E  E  T\n",
      "2            K  E  I  G  R\n",
      "3            M  U  N  U  G\n",
      "4            C  A  E  A  S\n",
      "...         .. .. .. .. ..\n",
      "995          M  S  L  O  F\n",
      "996          K  W  H  I  G\n",
      "997          E  I  N  E  O\n",
      "998          R  T  E  E  F\n",
      "999          M  I  E  A  O\n",
      "\n",
      "[1000 rows x 5 columns]\n"
     ]
    }
   ],
   "source": [
    "let_die1 = letter_die\n",
    "let_die2 = letter_die\n",
    "let_die3 = letter_die\n",
    "let_die4 = letter_die\n",
    "let_die5 = letter_die\n",
    "\n",
    "game_let = Game([let_die1, let_die2, let_die3, let_die4, let_die5])\n",
    "\n",
    "game_let.play(1000)\n",
    "print(game_let.show(\"wide\"))"
   ]
  },
  {
   "cell_type": "code",
   "execution_count": 73,
   "id": "4a9ff093-afea-4fd6-a408-8888bf9ed112",
   "metadata": {
    "tags": []
   },
   "outputs": [
    {
     "name": "stdout",
     "output_type": "stream",
     "text": [
      "# English words in permutations 2: 14\n"
     ]
    }
   ],
   "source": [
    "with open(\"scrabble_words.txt\", \"r\") as file:\n",
    "    valid_words2 = set(word.strip().lower() for word in file.readlines())\n",
    "\n",
    "analyzer_let = Analyzer(game_let)\n",
    "permutations2 = analyzer_let.permutation().reset_index()\n",
    "\n",
    "letter_cols2 = [col for col in permutations2.columns if col != 'count']\n",
    "\n",
    "permutations2['word'] = permutations2[letter_cols2].apply(\n",
    "    lambda row: ''.join(str(c).lower() for c in row),\n",
    "    axis=1\n",
    ")\n",
    "\n",
    "valid_permutations2 = permutations2[permutations2['word'].isin(valid_words2)]\n",
    "valid_word_count2 = valid_permutations2['count'].sum()\n",
    "\n",
    "print(f\"# English words in permutations 2: {valid_word_count2}\")"
   ]
  },
  {
   "cell_type": "code",
   "execution_count": 78,
   "id": "fd0c329c-da48-478f-bece-c3ec928fa760",
   "metadata": {
    "tags": []
   },
   "outputs": [
    {
     "name": "stdout",
     "output_type": "stream",
     "text": [
      "The game with 4 letter dice had more actual words\n"
     ]
    },
    {
     "data": {
      "image/png": "[encoded data removed]",
      "text/plain": [
       "<Figure size 640x480 with 1 Axes>"
      ]
     },
     "metadata": {},
     "output_type": "display_data"
    }
   ],
   "source": [
    "if valid_word_count > valid_word_count2:\n",
    "    print(f\"The game with 4 letter dice had more actual words\")\n",
    "elif valid_word_count_5 > valid_word_count_4:\n",
    "    print(f\"The game with 5 letter dice had more actual words\")\n",
    "else:\n",
    "    print(f\"Both games had the same number of actual words: {valid_word_count}\")\n",
    "\n",
    "    \n",
    "plt.bar(['4 Letter Dice Game', '5 Letter Dice Game'], [valid_word_count, valid_word_count2])\n",
    "plt.ylabel('Number of Valid Words')\n",
    "plt.title('Valid English Words Found: 4 vs 5 Letter Dice Games')\n",
    "plt.show()"
   ]
  }
 ],
 "metadata": {
  "kernelspec": {
   "display_name": "Python 3 (ipykernel)",
   "language": "python",
   "name": "python3"
  },
  "language_info": {
   "codemirror_mode": {
    "name": "ipython",
    "version": 3
   },
   "file_extension": ".py",
   "mimetype": "text/x-python",
   "name": "python",
   "nbconvert_exporter": "python",
   "pygments_lexer": "ipython3",
   "version": "3.11.4"
  },
  "toc-autonumbering": true,
  "widgets": {
   "application/vnd.jupyter.widget-state+json": {
    "state": {},
    "version_major": 2,
    "version_minor": 0
   }
  }
 },
 "nbformat": 4,
 "nbformat_minor": 5
}
